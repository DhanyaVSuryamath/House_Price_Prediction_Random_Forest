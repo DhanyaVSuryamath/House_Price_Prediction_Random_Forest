{
 "cells": [
  {
   "cell_type": "code",
   "execution_count": 1,
   "id": "097d05e7",
   "metadata": {},
   "outputs": [],
   "source": [
    "import pandas as pd\n",
    "import numpy as np\n",
    "import matplotlib.pyplot as plt\n",
    "import seaborn as sns"
   ]
  },
  {
   "cell_type": "code",
   "execution_count": 2,
   "id": "3cb143e9",
   "metadata": {},
   "outputs": [],
   "source": [
    "data = pd.read_excel(r\"C:\\Users\\CHINMAYI SURYAMATH\\Desktop\\ML PROJECT ECOMMERCE\\Final_House_Price_prediction\\HousePricePrediction.xlsx\")\n"
   ]
  },
  {
   "cell_type": "code",
   "execution_count": 3,
   "id": "f6d7e69d",
   "metadata": {},
   "outputs": [],
   "source": [
    "import pandas as pd\n",
    "import numpy as np\n",
    "\n",
    "users = {'Name': ['Amit', 'Cody', 'Drew'],\n",
    "    'Age': [20,21,25]}\n",
    "\n",
    "#create DataFrame\n",
    "df = pd.DataFrame(users, columns=['Name','Age'])"
   ]
  },
  {
   "cell_type": "code",
   "execution_count": 4,
   "id": "e3e825d2",
   "metadata": {},
   "outputs": [
    {
     "data": {
      "text/plain": [
       "Name    object\n",
       "Age      int64\n",
       "dtype: object"
      ]
     },
     "execution_count": 4,
     "metadata": {},
     "output_type": "execute_result"
    }
   ],
   "source": [
    "df.dtypes"
   ]
  },
  {
   "cell_type": "code",
   "execution_count": 5,
   "id": "ae5c7188",
   "metadata": {},
   "outputs": [],
   "source": [
    "train_data = data.iloc[:1460, :]\n"
   ]
  },
  {
   "cell_type": "code",
   "execution_count": 6,
   "id": "aa3ea42e",
   "metadata": {},
   "outputs": [],
   "source": [
    "test_data = data.iloc[1460:, :12].copy()"
   ]
  },
  {
   "cell_type": "code",
   "execution_count": 8,
   "id": "90b73ec4",
   "metadata": {},
   "outputs": [],
   "source": [
    "test_data.to_csv(\"Train_data.csv\")"
   ]
  },
  {
   "cell_type": "code",
   "execution_count": null,
   "id": "5f555003",
   "metadata": {},
   "outputs": [],
   "source": []
  }
 ],
 "metadata": {
  "kernelspec": {
   "display_name": "Python 3",
   "language": "python",
   "name": "python3"
  },
  "language_info": {
   "codemirror_mode": {
    "name": "ipython",
    "version": 3
   },
   "file_extension": ".py",
   "mimetype": "text/x-python",
   "name": "python",
   "nbconvert_exporter": "python",
   "pygments_lexer": "ipython3",
   "version": "3.13.1"
  }
 },
 "nbformat": 4,
 "nbformat_minor": 5
}
